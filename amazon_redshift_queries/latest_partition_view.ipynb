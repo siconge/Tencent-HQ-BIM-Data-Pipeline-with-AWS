{
 "cells": [
  {
   "cell_type": "markdown",
   "metadata": {
    "displayMode": "maximized",
    "isLimitOn": true,
    "width": 12
   },
   "source": [
    "#### Create a late-binding view that pre-filters to keep only the latest upload partition by timestamp"
   ]
  },
  {
   "cell_type": "code",
   "execution_count": 0,
   "metadata": {
    "displayMode": "maximized",
    "isLimitOn": true,
    "vscode": {
     "languageId": "redshift"
    },
    "width": 12
   },
   "outputs": [],
   "source": [
    "/*\n",
    "Redshift does not bind external tables at view creation time unless using late-binding views.\n",
    "WITH NO SCHEMA BINDING makes the view a late-binding view,\n",
    "ensuring schema validation happens at query runtime instead of creation time.\n",
    "A view always reflects the latest data of the underlying tables dynamically.\n",
    "*/\n",
    "\n",
    "CREATE VIEW latest_partition_view AS\n",
    "SELECT *\n",
    "FROM \"awsdatacatalog\".\"tencent-bim_database\".\"partitioned\"\n",
    "WHERE timestamp = (\n",
    "    SELECT MAX(timestamp) \n",
    "    FROM \"awsdatacatalog\".\"tencent-bim_database\".\"partitioned\"\n",
    ")\n",
    "WITH NO SCHEMA BINDING;"
   ]
  }
 ],
 "metadata": {
  "kernelspec": {
   "display_name": "Redshift",
   "language": "postgresql",
   "name": "Redshift"
  },
  "language_info": {
   "file_extension": ".sql",
   "name": "Redshift"
  },
  "title": "Aggregation - Panel Area by Unit Type",
  "version": 1
 },
 "nbformat": 4,
 "nbformat_minor": 0
}
